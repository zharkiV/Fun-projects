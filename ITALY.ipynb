{
 "cells": [
  {
   "cell_type": "code",
   "execution_count": 1,
   "metadata": {},
   "outputs": [
    {
     "name": "stdout",
     "output_type": "stream",
     "text": [
      "\u001b[1;32;42m     \u001b[1;37;47m     \u001b[1;31;41m     \n",
      "\u001b[1;32;42m     \u001b[1;37;47m     \u001b[1;31;41m     \n",
      "\u001b[1;32;42m     \u001b[1;37;47m     \u001b[1;31;41m     \n",
      "\u001b[1;32;40m    ---✈\n",
      "\u001b[1;32;40m      ---✈\n",
      "\u001b[1;32;40m        ---✈\n",
      "\u001b[1;37;40m          ---✈\n",
      "\u001b[1;37;40m            ---✈\n",
      "\u001b[1;37;40m          ---✈\n",
      "\u001b[1;31;40m        ---✈\n",
      "\u001b[1;31;40m      ---✈\n",
      "\u001b[1;31;40m    ---✈\n"
     ]
    }
   ],
   "source": [
    "print(\"\\033[1;32;42m     \\033[1;37;47m     \\033[1;31;41m     \")\n",
    "print(\"\\033[1;32;42m     \\033[1;37;47m     \\033[1;31;41m     \")\n",
    "print(\"\\033[1;32;42m     \\033[1;37;47m     \\033[1;31;41m     \")\n",
    "\n",
    "print(\"\\033[1;32;40m    ---✈\")\n",
    "print(\"\\033[1;32;40m      ---✈\")\n",
    "print(\"\\033[1;32;40m        ---✈\")\n",
    "print(\"\\033[1;37;40m          ---✈\")\n",
    "print(\"\\033[1;37;40m            ---✈\")\n",
    "print(\"\\033[1;37;40m          ---✈\")\n",
    "print(\"\\033[1;31;40m        ---✈\") \n",
    "print(\"\\033[1;31;40m      ---✈\") \n",
    "print(\"\\033[1;31;40m    ---✈\") "
   ]
  }
 ],
 "metadata": {
  "kernelspec": {
   "display_name": "Python 3.10.4 64-bit",
   "language": "python",
   "name": "python3"
  },
  "language_info": {
   "codemirror_mode": {
    "name": "ipython",
    "version": 3
   },
   "file_extension": ".py",
   "mimetype": "text/x-python",
   "name": "python",
   "nbconvert_exporter": "python",
   "pygments_lexer": "ipython3",
   "version": "3.10.4"
  },
  "orig_nbformat": 4,
  "vscode": {
   "interpreter": {
    "hash": "a166369db42c1466e2e3775def9041c304cd3bfe227c8b0f35b781bd0a6af835"
   }
  }
 },
 "nbformat": 4,
 "nbformat_minor": 2
}
